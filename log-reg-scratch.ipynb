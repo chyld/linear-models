{
 "cells": [
  {
   "cell_type": "code",
   "execution_count": 1,
   "metadata": {},
   "outputs": [],
   "source": [
    "from sklearn.datasets import make_classification\n",
    "from sklearn.linear_model import LogisticRegression\n",
    "from sklearn.metrics import accuracy_score\n",
    "import numpy as np\n",
    "import matplotlib.pyplot as plt\n",
    "%matplotlib inline"
   ]
  },
  {
   "cell_type": "code",
   "execution_count": 2,
   "metadata": {},
   "outputs": [],
   "source": [
    "features = 3\n",
    "samples = 100\n",
    "X, y = make_classification(n_samples=samples, n_features=features, n_classes=2, n_informative=features,\n",
    "                    n_redundant=0, n_repeated=0, class_sep=2.50, n_clusters_per_class=1)"
   ]
  },
  {
   "cell_type": "code",
   "execution_count": 3,
   "metadata": {},
   "outputs": [
    {
     "data": {
      "text/plain": [
       "LogisticRegression(C=1.0, class_weight=None, dual=False, fit_intercept=True,\n",
       "                   intercept_scaling=1, l1_ratio=None, max_iter=100,\n",
       "                   multi_class='auto', n_jobs=None, penalty='l2',\n",
       "                   random_state=None, solver='lbfgs', tol=0.0001, verbose=0,\n",
       "                   warm_start=False)"
      ]
     },
     "execution_count": 3,
     "metadata": {},
     "output_type": "execute_result"
    }
   ],
   "source": [
    "lr = LogisticRegression().fit(X, y); lr"
   ]
  },
  {
   "cell_type": "code",
   "execution_count": 4,
   "metadata": {},
   "outputs": [],
   "source": [
    "b1, b2, b3 = lr.coef_[0]\n",
    "b0 = lr.intercept_[0]\n",
    "X = np.hstack((np.ones(samples).reshape(-1, 1), X))\n",
    "y = y.reshape(-1, 1)\n",
    "b = np.array([[b0, b1, b2, b3]])"
   ]
  },
  {
   "cell_type": "code",
   "execution_count": 5,
   "metadata": {},
   "outputs": [
    {
     "data": {
      "text/plain": [
       "array([[ 1.        ,  0.86443514,  2.48191296,  2.97997709],\n",
       "       [ 1.        , -3.18126096,  0.87831423,  2.3864222 ],\n",
       "       [ 1.        , -4.31706456,  0.12854129,  0.62226708]])"
      ]
     },
     "execution_count": 5,
     "metadata": {},
     "output_type": "execute_result"
    }
   ],
   "source": [
    "# integrating y-intercept into the data matrix, X\n",
    "X[:3]"
   ]
  },
  {
   "cell_type": "code",
   "execution_count": 6,
   "metadata": {},
   "outputs": [
    {
     "data": {
      "text/plain": [
       "array([[1],\n",
       "       [0],\n",
       "       [0]])"
      ]
     },
     "execution_count": 6,
     "metadata": {},
     "output_type": "execute_result"
    }
   ],
   "source": [
    "y[:3]"
   ]
  },
  {
   "cell_type": "code",
   "execution_count": 7,
   "metadata": {},
   "outputs": [
    {
     "data": {
      "text/plain": [
       "array([[ 5.10067685,  1.93917732, -0.62553907, -0.77889652]])"
      ]
     },
     "execution_count": 7,
     "metadata": {},
     "output_type": "execute_result"
    }
   ],
   "source": [
    "# baseline beta parameter values\n",
    "b"
   ]
  },
  {
   "cell_type": "code",
   "execution_count": 8,
   "metadata": {},
   "outputs": [],
   "source": [
    "# n: number of samples\n",
    "# d: number of dimensions or predictors\n",
    "# o: output of function\n",
    "def fn(b, X):\n",
    "    # X: n x d\n",
    "    # b: 1 x d\n",
    "    # o: n x 1\n",
    "    return X @ b.T"
   ]
  },
  {
   "cell_type": "code",
   "execution_count": 9,
   "metadata": {},
   "outputs": [],
   "source": [
    "def sigmoid(z):\n",
    "    # z: n x 1\n",
    "    # o: n x 1\n",
    "    return 1 / (1 + np.exp(-z))"
   ]
  },
  {
   "cell_type": "code",
   "execution_count": 10,
   "metadata": {},
   "outputs": [],
   "source": [
    "def neg_log_loss(X, y, b):\n",
    "    # X: n x d\n",
    "    # y: n x 1\n",
    "    # b: 1 x d\n",
    "    # o: n x 1\n",
    "    p = sigmoid(fn(b, X))\n",
    "    a1 = y * np.log(p)\n",
    "    a2 = (1 - y) * np.log(1 - p)\n",
    "    return - (a1 + a2)"
   ]
  },
  {
   "cell_type": "code",
   "execution_count": 11,
   "metadata": {},
   "outputs": [],
   "source": [
    "def gradient(X, y, b):\n",
    "    # X: n x d\n",
    "    # y: n x 1\n",
    "    # b: 1 x d\n",
    "    # o: n x d\n",
    "    p = sigmoid(fn(b, X))\n",
    "    return (p - y) * X"
   ]
  },
  {
   "cell_type": "code",
   "execution_count": 12,
   "metadata": {},
   "outputs": [],
   "source": [
    "b_hat = np.random.random((1, features + 1))\n",
    "α = 0.00001\n",
    "I = int(1e4)\n",
    "nll = np.zeros(I)\n",
    "gradients = np.zeros((I, features + 1))\n",
    "for i in range(I):\n",
    "    l = neg_log_loss(X, y, b_hat).sum()\n",
    "    g = gradient(X, y, b_hat).sum(axis=0)\n",
    "    b_hat -= α * g\n",
    "    nll[i] = l\n",
    "    gradients[i] = g"
   ]
  },
  {
   "cell_type": "code",
   "execution_count": 13,
   "metadata": {},
   "outputs": [
    {
     "data": {
      "image/png": "[encoded data removed]",
      "text/plain": [
       "<Figure size 432x288 with 1 Axes>"
      ]
     },
     "metadata": {
      "needs_background": "light"
     },
     "output_type": "display_data"
    }
   ],
   "source": [
    "plt.plot(nll, linestyle='--', color='#ff33cc')\n",
    "plt.xlabel('iteration')\n",
    "plt.ylabel('negative log loss');"
   ]
  },
  {
   "cell_type": "code",
   "execution_count": 14,
   "metadata": {},
   "outputs": [
    {
     "data": {
      "image/png": "[encoded data removed]",
      "text/plain": [
       "<Figure size 432x288 with 1 Axes>"
      ]
     },
     "metadata": {
      "needs_background": "light"
     },
     "output_type": "display_data"
    }
   ],
   "source": [
    "plt.plot(range(I), gradients[:,0])\n",
    "plt.plot(range(I), gradients[:,1])\n",
    "plt.plot(range(I), gradients[:,2])\n",
    "plt.plot(range(I), gradients[:,3])\n",
    "plt.axhline(0, linestyle='--', color='black')\n",
    "plt.xlabel('iteration')\n",
    "plt.ylabel('slope');"
   ]
  },
  {
   "cell_type": "code",
   "execution_count": 15,
   "metadata": {},
   "outputs": [
    {
     "data": {
      "text/plain": [
       "0.99"
      ]
     },
     "execution_count": 15,
     "metadata": {},
     "output_type": "execute_result"
    }
   ],
   "source": [
    "# baseline accuracy\n",
    "accuracy_score(y, lr.predict(X[:, 1:]))"
   ]
  },
  {
   "cell_type": "code",
   "execution_count": 16,
   "metadata": {},
   "outputs": [
    {
     "data": {
      "text/plain": [
       "0.99"
      ]
     },
     "execution_count": 16,
     "metadata": {},
     "output_type": "execute_result"
    }
   ],
   "source": [
    "# custom model accuracy\n",
    "accuracy_score(y, sigmoid(fn(b_hat, X)) > 0.50 )"
   ]
  },
  {
   "cell_type": "code",
   "execution_count": 17,
   "metadata": {},
   "outputs": [
    {
     "data": {
      "text/plain": [
       "array([[ 5.10067685,  1.93917732, -0.62553907, -0.77889652]])"
      ]
     },
     "execution_count": 17,
     "metadata": {},
     "output_type": "execute_result"
    }
   ],
   "source": [
    "# baseline parameters\n",
    "b"
   ]
  },
  {
   "cell_type": "code",
   "execution_count": 18,
   "metadata": {},
   "outputs": [
    {
     "data": {
      "text/plain": [
       "array([[ 0.4436072 ,  1.59506704,  0.23661936, -0.27725598]])"
      ]
     },
     "execution_count": 18,
     "metadata": {},
     "output_type": "execute_result"
    }
   ],
   "source": [
    "# custom model parameters\n",
    "b_hat"
   ]
  },
  {
   "cell_type": "code",
   "execution_count": 19,
   "metadata": {},
   "outputs": [],
   "source": [
    "# x0 -- all 1s\n",
    "# x2 -- what we are predicting\n",
    "x1 = np.linspace(X[:,1].min(), X[:,1].max(), samples).reshape(-1, 1)\n",
    "x3 = np.linspace(X[:,3].min(), X[:,3].max(), samples).reshape(-1, 1)"
   ]
  },
  {
   "cell_type": "code",
   "execution_count": 20,
   "metadata": {},
   "outputs": [
    {
     "data": {
      "text/plain": [
       "array([[ 1.        , -5.51147676, -0.98052838],\n",
       "       [ 1.        , -5.4079817 , -0.92456724],\n",
       "       [ 1.        , -5.30448664, -0.86860611]])"
      ]
     },
     "execution_count": 20,
     "metadata": {},
     "output_type": "execute_result"
    }
   ],
   "source": [
    "# creating a new dataset for plotting the decision boundry\n",
    "X_range = np.hstack((np.ones((samples, 1)), x1, x3)); X_range[:3]"
   ]
  },
  {
   "cell_type": "code",
   "execution_count": 21,
   "metadata": {},
   "outputs": [],
   "source": [
    "def decision_boundry(p, b, X, b_i):\n",
    "    q = 1 - p\n",
    "    log_odds = np.log(p/q)\n",
    "    x_i = (log_odds - (X @ b.T)) / b_i\n",
    "    return x_i"
   ]
  },
  {
   "cell_type": "code",
   "execution_count": 22,
   "metadata": {},
   "outputs": [
    {
     "data": {
      "text/plain": [
       "array([-7.71, -7.46, -7.21, -6.96, -6.71, -6.45, -6.2 , -5.95, -5.7 ,\n",
       "       -5.45])"
      ]
     },
     "execution_count": 22,
     "metadata": {},
     "output_type": "execute_result"
    }
   ],
   "source": [
    "boundry1 = decision_boundry(0.50, b[:,[0,1,3]], X_range, b[:,2]).flatten(); boundry1[:10].round(2)"
   ]
  },
  {
   "cell_type": "code",
   "execution_count": 23,
   "metadata": {},
   "outputs": [
    {
     "data": {
      "text/plain": [
       "array([34.13, 33.5 , 32.87, 32.23, 31.6 , 30.97, 30.34, 29.7 , 29.07,\n",
       "       28.44])"
      ]
     },
     "execution_count": 23,
     "metadata": {},
     "output_type": "execute_result"
    }
   ],
   "source": [
    "boundry2 = decision_boundry(0.50, b_hat[:,[0,1,3]], X_range, b_hat[:,2]).flatten(); boundry2[:10].round(2)\n",
    "boundry2_05 = decision_boundry(0.05, b_hat[:,[0,1,3]], X_range, b_hat[:,2]).flatten(); boundry2[:10].round(2)\n",
    "boundry2_95 = decision_boundry(0.95, b_hat[:,[0,1,3]], X_range, b_hat[:,2]).flatten(); boundry2[:10].round(2)"
   ]
  },
  {
   "cell_type": "code",
   "execution_count": 24,
   "metadata": {},
   "outputs": [
    {
     "data": {
      "image/png": "[encoded data removed]",
      "text/plain": [
       "<Figure size 864x576 with 1 Axes>"
      ]
     },
     "metadata": {
      "needs_background": "light"
     },
     "output_type": "display_data"
    }
   ],
   "source": [
    "plt.figure(figsize=(12, 8))\n",
    "plt.scatter(X[:,1], X[:,2], c=y)\n",
    "plt.plot(X_range[:,1], boundry1, label='sklearn', alpha=0.1, color='black')\n",
    "plt.plot(X_range[:,1], boundry2, label='p(y|x) = 50%', alpha=0.7, color='#ff33cc')\n",
    "plt.plot(X_range[:,1], boundry2_05, label='p(y|x) = 5%', alpha=0.7, linestyle='--', color='green')\n",
    "plt.plot(X_range[:,1], boundry2_95, label='p(y|x) = 95%', alpha=0.7, linestyle='--', color='green')\n",
    "plt.xlabel('x1')\n",
    "plt.ylabel('x2')\n",
    "plt.legend();"
   ]
  },
  {
   "cell_type": "code",
   "execution_count": 25,
   "metadata": {},
   "outputs": [
    {
     "data": {
      "text/plain": [
       "array([ True, False, False, False,  True,  True, False, False, False,\n",
       "        True])"
      ]
     },
     "execution_count": 25,
     "metadata": {},
     "output_type": "execute_result"
    }
   ],
   "source": [
    "# comparing the accuracy of our model when looking at the hyperplane\n",
    "# or by computing the probability ... same!\n",
    "hyperplane_acc = (X @ b_hat.T > 0).flatten(); hyperplane_acc[:10]"
   ]
  },
  {
   "cell_type": "code",
   "execution_count": 26,
   "metadata": {},
   "outputs": [
    {
     "data": {
      "text/plain": [
       "array([ True, False, False, False,  True,  True, False, False, False,\n",
       "        True])"
      ]
     },
     "execution_count": 26,
     "metadata": {},
     "output_type": "execute_result"
    }
   ],
   "source": [
    "prob_acc = sigmoid(fn(b_hat, X)).flatten() > 0.50; prob_acc[:10]"
   ]
  },
  {
   "cell_type": "code",
   "execution_count": 27,
   "metadata": {},
   "outputs": [
    {
     "data": {
      "text/plain": [
       "1.0"
      ]
     },
     "execution_count": 27,
     "metadata": {},
     "output_type": "execute_result"
    }
   ],
   "source": [
    "(hyperplane_acc == prob_acc).mean()"
   ]
  },
  {
   "cell_type": "code",
   "execution_count": null,
   "metadata": {},
   "outputs": [],
   "source": []
  }
 ],
 "metadata": {
  "kernelspec": {
   "display_name": "Python 3",
   "language": "python",
   "name": "python3"
  },
  "language_info": {
   "codemirror_mode": {
    "name": "ipython",
    "version": 3
   },
   "file_extension": ".py",
   "mimetype": "text/x-python",
   "name": "python",
   "nbconvert_exporter": "python",
   "pygments_lexer": "ipython3",
   "version": "3.7.7"
  }
 },
 "nbformat": 4,
 "nbformat_minor": 4
}
